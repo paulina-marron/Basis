{
 "cells": [
  {
   "cell_type": "code",
   "execution_count": 54,
   "metadata": {},
   "outputs": [],
   "source": [
    "# Prospects list\n",
    "\n",
    "from datetime import datetime\n",
    "\n",
    "current_datetime = datetime.now().strftime(\"%Y-%m-%d %H:%M:%S\")\n",
    "\n",
    "co_list = []\n",
    "company_dict = {\n",
    "        \"company_name\": \"Basis\",\n",
    "        \"domain\": \"getbasis.com\",\n",
    "        \"linkedin_url\": \"linkedin.com/company/basis/\",\n",
    "        \"created_at\": current_datetime\n",
    "        }\n",
    "co_list.append(company_dict)\n",
    "\n",
    "company_dict_2 = {\n",
    "        \"company_name\": \"Google\",\n",
    "        \"domain\": \"google.com\",\n",
    "        \"linkedin_url\": \"linkedin.com/company/google/\",\n",
    "        \"created_at\": current_datetime\n",
    "        }\n",
    "\n",
    "co_list.append(company_dict_2)"
   ]
  },
  {
   "cell_type": "code",
   "execution_count": 55,
   "metadata": {},
   "outputs": [
    {
     "name": "stdout",
     "output_type": "stream",
     "text": [
      "[{'company_name': 'Basis', 'domain': 'getbasis.com', 'linkedin_url': 'linkedin.com/company/basis/', 'created_at': '2022-03-23 21:09:38'}, {'company_name': 'Google', 'domain': 'google.com', 'linkedin_url': 'linkedin.com/company/google/', 'created_at': '2022-03-23 21:09:38'}]\n"
     ]
    }
   ],
   "source": [
    "print(co_list)"
   ]
  },
  {
   "cell_type": "code",
   "execution_count": 61,
   "metadata": {},
   "outputs": [
    {
     "name": "stdout",
     "output_type": "stream",
     "text": [
      "[{'Basis': '{\"status\": 400, \"error\": {\"type\": [\"invalid_request_error\"], \"message\": \"No query specified. Use either the `query` or `sql` parameters for elasticsearch queries or SQL queries, respectively.\"}}'}, {'Google': '{\"status\": 400, \"error\": {\"type\": [\"invalid_request_error\"], \"message\": \"No query specified. Use either the `query` or `sql` parameters for elasticsearch queries or SQL queries, respectively.\"}}'}]\n"
     ]
    }
   ],
   "source": [
    "# People Data Labs Company Enrichment API\n",
    "\n",
    "import requests\n",
    "\n",
    "https://api.peopledatalabs.com/v5/company/search\n",
    "\n",
    "url = \"https://api.peopledatalabs.com/v5/company/enrich\"\n",
    "\n",
    "querystring = {\"website\":\"www.facebook.com\"}\n",
    "\n",
    "headers = {\n",
    "    'accept': \"application/json\",\n",
    "    'content-type': \"application/json\",\n",
    "    'x-api-key': \"XXXX\"\n",
    "    }\n",
    "\n",
    "responses = []\n",
    "\n",
    "for item in co_list:\n",
    "    querystring = {\"website\":item[\"domain\"]}\n",
    "    response = requests.request(\"GET\", url, headers=headers, params=querystring)\n",
    "    responses.append({item[\"company_name\"]:response.text})\n",
    "\n",
    "print(responses)"
   ]
  },
  {
   "cell_type": "code",
   "execution_count": 62,
   "metadata": {},
   "outputs": [
    {
     "name": "stdout",
     "output_type": "stream",
     "text": [
      "successfully grabbed 1 records from pdl\n",
      "1 total pdl records exist matching this query\n"
     ]
    }
   ],
   "source": [
    "# Using Company Search from People Data Labs (currently in Beta)\n",
    "\n",
    "import requests, json\n",
    "\n",
    "API_KEY = \"XXXX\"\n",
    "\n",
    "PDL_URL = \"https://api.peopledatalabs.com/v5/company/search\"\n",
    "\n",
    "H = {\n",
    "  'Content-Type': \"application/json\",\n",
    "  'X-api-key': API_KEY\n",
    "}\n",
    "\n",
    "SQL_QUERY = \\\n",
    "\"\"\"\n",
    "  SELECT * FROM company\n",
    "  WHERE website='google.com';\n",
    " \"\"\"\n",
    "\n",
    "P = {\n",
    "  'sql': SQL_QUERY,\n",
    "  'size': 10,\n",
    "  'pretty': True\n",
    "}\n",
    "\n",
    "response = requests.get(\n",
    "  PDL_URL,\n",
    "  headers=H,\n",
    "  params=P\n",
    ").json()\n",
    "\n",
    "if response[\"status\"] == 200:\n",
    "  data = response['data']\n",
    "  with open(\"my_pdl_search.jsonl\", \"w\") as out:\n",
    "    for record in data:\n",
    "      out.write(json.dumps(record) + \"\\n\")\n",
    "  print(f\"successfully grabbed {len(data)} records from pdl\")\n",
    "  print(f\"{response['total']} total pdl records exist matching this query\")\n",
    "else:\n",
    "  print(\"NOTE. The carrier pigeons lost motivation in flight. See error and try again.\")\n",
    "  print(\"error:\", response)"
   ]
  },
  {
   "cell_type": "code",
   "execution_count": 64,
   "metadata": {},
   "outputs": [
    {
     "data": {
      "text/plain": [
       "[{'name': 'google',\n",
       "  'size': '10001+',\n",
       "  'employee_count': 272189,\n",
       "  'id': 'google',\n",
       "  'founded': 1998,\n",
       "  'industry': 'internet',\n",
       "  'location': {'name': 'mountain view, california, united states',\n",
       "   'locality': 'mountain view',\n",
       "   'region': 'california',\n",
       "   'metro': 'san francisco, california',\n",
       "   'country': 'united states',\n",
       "   'continent': 'north america',\n",
       "   'street_address': '1600 amphitheatre parkway',\n",
       "   'address_line_2': None,\n",
       "   'postal_code': '94043',\n",
       "   'geo': None},\n",
       "  'linkedin_id': '1441',\n",
       "  'linkedin_url': 'linkedin.com/company/google',\n",
       "  'facebook_url': 'facebook.com/google',\n",
       "  'twitter_url': None,\n",
       "  'profiles': ['linkedin.com/company/google',\n",
       "   'linkedin.com/company/1441',\n",
       "   'facebook.com/google',\n",
       "   'crunchbase.com/organization/google'],\n",
       "  'website': 'google.com',\n",
       "  'ticker': 'GOOGL',\n",
       "  'type': 'public',\n",
       "  'summary': 'google’s mission is to organize the world‘s information and make it universally accessible and useful.\\n\\n since our founding in 1998, google has grown by leaps and bounds. from offering search in a single language we now offer dozens of products and services—including various forms of advertising and web applications for all kinds of tasks—in scores of languages. and starting from two computer science students in a university dorm room, we now have thousands of employees and offices around the world. a lot has changed since the first google search engine appeared. but some things haven’t changed: our dedication to our users and our belief in the possibilities of the internet itself.',\n",
       "  'tags': ['online video',\n",
       "   'mobile',\n",
       "   'android',\n",
       "   'ads',\n",
       "   'search',\n",
       "   'artificial intelligence',\n",
       "   'cloud',\n",
       "   'machine learning',\n",
       "   'virtual reality',\n",
       "   'apps'],\n",
       "  'headline': None,\n",
       "  'alternative_names': ['google inc.',\n",
       "   'google, social marketing tools',\n",
       "   'google, inc.',\n",
       "   'google inc',\n",
       "   'google, inc',\n",
       "   'google summer of code',\n",
       "   'google maps',\n",
       "   'google ireland',\n",
       "   'wildfire, a division of google',\n",
       "   'wildfire interactive, inc.'],\n",
       "  'affiliated_profiles': ['youtube',\n",
       "   'google-cloud',\n",
       "   'think-with-google',\n",
       "   'google-ads-',\n",
       "   'googleworkspace',\n",
       "   'google-analytics',\n",
       "   'googlemarketingplatform',\n",
       "   'google-ad-manager',\n",
       "   'grow-with-google',\n",
       "   'google-cloud-partners',\n",
       "   'google-for-startups',\n",
       "   'google-small-business',\n",
       "   'x',\n",
       "   'google-partners',\n",
       "   'rework-with-google',\n",
       "   'googleplaydev',\n",
       "   'googleadmob',\n",
       "   'google-user-research.',\n",
       "   'google-news-initiative',\n",
       "   'adometry']}]"
      ]
     },
     "execution_count": 64,
     "metadata": {},
     "output_type": "execute_result"
    }
   ],
   "source": [
    "data"
   ]
  },
  {
   "cell_type": "code",
   "execution_count": 66,
   "metadata": {},
   "outputs": [],
   "source": [
    "# Next step :\n",
    "# Scoring\n",
    "\n",
    "# Total Company Lead Score Column Value (starting at 0) should be updated based on the following parameters (provided from the enrichment of company data from PDL):\n",
    "\n",
    "# If value exists, add the associated “point” total to the Total Lead Score Column Value.  If any other value is in the table, do not update total Value. \n",
    "\n",
    "# size\n",
    "# 0-10 +10\n",
    "# 11-50 +5\n",
    "# 51-200 +3\n",
    "# 201-500 +3\n",
    "# 501-1000 -5\n",
    "# 1001-5000 -10\n",
    "# Founded\n",
    "# 2022 +10\n",
    "# 2021 +10\n",
    "# 2020 +5\n",
    "# 2015-2019 +3\n",
    "# 2005-2014 +2\n",
    "# Industry\n",
    "# computer software +10\n",
    "# design +5\n",
    "# e-learning +5\n",
    "# information services +5\n",
    "# information technology and services +10\n",
    "# internet +10\n",
    "# program development +5\n",
    "# Linkedin_id\n",
    "# value present +5\n",
    "# null -5\n",
    "# Location Country\n",
    "# United States +10\n",
    "# australia +8\n",
    "# canada +8\n",
    "# united kingdom +8\n",
    "# type\n",
    "# Private +5\n",
    "# Tags\n",
    "# data +5\n",
    "# Saas +10\n",
    "# api +10\n",
    "# software +10\n"
   ]
  },
  {
   "cell_type": "code",
   "execution_count": null,
   "metadata": {},
   "outputs": [],
   "source": []
  }
 ],
 "metadata": {
  "interpreter": {
   "hash": "aee8b7b246df8f9039afb4144a1f6fd8d2ca17a180786b69acc140d282b71a49"
  },
  "kernelspec": {
   "display_name": "Python 3.10.2 64-bit",
   "name": "python3"
  },
  "language_info": {
   "codemirror_mode": {
    "name": "ipython",
    "version": 3
   },
   "file_extension": ".py",
   "mimetype": "text/x-python",
   "name": "python",
   "nbconvert_exporter": "python",
   "pygments_lexer": "ipython3",
   "version": "3.10.2"
  },
  "orig_nbformat": 4
 },
 "nbformat": 4,
 "nbformat_minor": 2
}
